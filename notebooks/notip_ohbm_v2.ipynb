{
 "cells": [
  {
   "cell_type": "code",
   "execution_count": null,
   "metadata": {},
   "outputs": [],
   "source": [
    "%matplotlib inline"
   ]
  },
  {
   "cell_type": "markdown",
   "metadata": {},
   "source": [
    "\n",
    "# True positive proportions in fMRI clusters using Notip\n",
    "\n",
    "This script showcases the so-called Notip procedure [1], in\n",
    "which the proportion of true discoveries in arbitrary clusters is estimated.\n",
    "The clusters can be defined from the input image, i.e. in a circular way, as\n",
    "the error control accounts for arbitrary cluster selection.\n"
   ]
  },
  {
   "cell_type": "code",
   "execution_count": null,
   "metadata": {},
   "outputs": [],
   "source": [
    "pip install notip -q"
   ]
  },
  {
   "cell_type": "markdown",
   "metadata": {},
   "source": [
    "## Fetch dataset\n",
    "We download a list of left vs right button press contrast maps from the so-called localizer dataset [2]. Note that we fetch individual t-maps that represent the\n",
    "BOLD activity estimate divided by the uncertainty about this estimate."
   ]
  },
  {
   "cell_type": "code",
   "execution_count": null,
   "metadata": {},
   "outputs": [],
   "source": [
    "from nilearn.datasets import fetch_localizer_contrasts\n",
    "import numpy as np\n",
    "\n",
    "n_subjects = 30\n",
    "data = fetch_localizer_contrasts(\n",
    "    [\"left vs right button press\"],\n",
    "    n_subjects,\n",
    "    get_tmaps=True,\n",
    "    legacy_format=False,\n",
    ")\n",
    "# TODO: explain the meaning of the contrast used\n",
    "# TODO: explain that we take t maps"
   ]
  },
  {
   "cell_type": "markdown",
   "metadata": {},
   "source": [
    "Let's visualize the input data:"
   ]
  },
  {
   "cell_type": "code",
   "execution_count": null,
   "metadata": {},
   "outputs": [],
   "source": [
    "import matplotlib.pyplot as plt\n",
    "from nilearn.plotting import plot_glass_brain\n",
    "fig, axes = plt.subplots(nrows=4, ncols=4, figsize=(6, 6), dpi=300)\n",
    "# we only look at 16 subjects\n",
    "for cidx, tmap in enumerate(data['tmaps'][:16]):\n",
    "    plot_glass_brain(\n",
    "        tmap,\n",
    "        colorbar=False,\n",
    "        threshold=2.0,\n",
    "        axes=axes[int(cidx / 4), int(cidx % 4)],\n",
    "        plot_abs=False,\n",
    "        annotate=False,\n",
    "        display_mode='z')"
   ]
  },
  {
   "cell_type": "markdown",
   "metadata": {},
   "source": [
    "To extract signal from these images, we need a masker:"
   ]
  },
  {
   "cell_type": "code",
   "execution_count": null,
   "metadata": {},
   "outputs": [],
   "source": [
    "from nilearn.maskers import NiftiMasker\n",
    "smoothing_fwhm = 8.0\n",
    "nifti_masker = NiftiMasker(smoothing_fwhm=smoothing_fwhm)"
   ]
  },
  {
   "cell_type": "code",
   "execution_count": null,
   "metadata": {},
   "outputs": [],
   "source": [
    "fmri_input = nifti_masker.fit_transform(data[\"cmaps\"])\n",
    "# If we use that, no need to download / show the tmaps"
   ]
  },
  {
   "cell_type": "code",
   "execution_count": null,
   "metadata": {},
   "outputs": [],
   "source": [
    "print(fmri_input.shape)"
   ]
  },
  {
   "cell_type": "markdown",
   "metadata": {},
   "source": [
    "We have extracted the values of 46482 voxels from 30 images."
   ]
  },
  {
   "cell_type": "markdown",
   "metadata": {},
   "source": [
    "### Computing True Discovery Proportion (TDP) lower bounds on data-derived clusters"
   ]
  },
  {
   "cell_type": "markdown",
   "metadata": {},
   "source": [
    "First, we need to compute a statistical map from the input data. This is done via a t-test, performed for each voxel."
   ]
  },
  {
   "cell_type": "code",
   "execution_count": null,
   "metadata": {},
   "outputs": [],
   "source": [
    "from scipy import stats\n",
    "from scipy.stats import norm\n",
    "\n",
    "# Let's run a one-sample t test on these data\n",
    "stats_, p_values = stats.ttest_1samp(fmri_input, 0)\n",
    "# Let's z-transform these p-values into z values\n",
    "z_vals_ = norm.isf(p_values)\n",
    "# Let's make this an image by using the inverse_transform method of the masker\n",
    "z_map = nifti_masker.inverse_transform(z_vals_)\n",
    "# todo :immediately plot the z_map"
   ]
  },
  {
   "cell_type": "markdown",
   "metadata": {},
   "source": [
    "We can now use Notip to compute TDP lower bounds on clusters exceeding a z-value threshold. Note that since we study a contrast that corresponds to the difference of two conditions, we can only perform one-sample testing."
   ]
  },
  {
   "cell_type": "code",
   "execution_count": null,
   "metadata": {},
   "outputs": [],
   "source": [
    "from notip.posthoc_fmri import get_clusters_table_with_TDP\n",
    "get_clusters_table_with_TDP(z_map, fmri_input, n_permutations=200, stat_threshold=3.5, methods=['Notip'])\n",
    "# todo: rename to get_clusters_table_TDP_1samp\n",
    "# todo: create get_clusters_table_TDP_2samp\n",
    "# todo: remove z_map"
   ]
  },
  {
   "cell_type": "markdown",
   "metadata": {},
   "source": [
    "We have reduced the number of permutations to 200 for the sake of computation time. Note that we can get tighter FDP control by increasing this number."
   ]
  },
  {
   "cell_type": "markdown",
   "metadata": {},
   "source": [
    "### Comparison with other TDP lower bounds \n",
    "\n",
    "There exist other approach to get TDP estimates. Among those, All-Resolution-Inference (ARI) does not require permutations. Let us compare their result."
   ]
  },
  {
   "cell_type": "code",
   "execution_count": null,
   "metadata": {},
   "outputs": [],
   "source": [
    "from notip.posthoc_fmri import get_clusters_table_with_TDP\n",
    "get_clusters_table_with_TDP(\n",
    "    z_map, \n",
    "    fmri_input, \n",
    "    n_permutations=200,\n",
    "    stat_threshold=3.5,\n",
    "    methods=['ARI', 'Notip'])"
   ]
  },
  {
   "cell_type": "markdown",
   "metadata": {},
   "source": [
    "### Using Notip on anatomical regions from atlases"
   ]
  },
  {
   "cell_type": "code",
   "execution_count": null,
   "metadata": {},
   "outputs": [],
   "source": [
    "from nilearn import datasets\n",
    "atlas = datasets.fetch_atlas_harvard_oxford('cort-prob-1mm')\n",
    "# todo: take 2mm atlas for the sake of computation time\n",
    "atlas_filename = atlas.maps\n",
    "labels = atlas.labels[1:]\n",
    "atlas_masked = nifti_masker.transform(atlas_filename)"
   ]
  },
  {
   "cell_type": "code",
   "execution_count": null,
   "metadata": {},
   "outputs": [],
   "source": [
    "len(labels)"
   ]
  },
  {
   "cell_type": "markdown",
   "metadata": {},
   "source": [
    "We have 48 atlas regions."
   ]
  },
  {
   "cell_type": "code",
   "execution_count": null,
   "metadata": {},
   "outputs": [],
   "source": [
    "import numpy as np\n",
    "from nilearn._utils.niimg import safe_get_data\n",
    "# idx = np.random.randint(len(labels)) # Choose an atlas region\n",
    "idx = 6\n",
    "# FIXME: why aren't you using a proper masker ? the manipulation below is horrible\n",
    "region_mask_ = np.where(safe_get_data(nifti_masker.inverse_transform(atlas_masked))[:,:,:,idx] != 0)\n",
    "region_mask = np.zeros(z_map.shape)\n",
    "region_mask[region_mask_] = 1\n",
    "#Awful hack, use math_img"
   ]
  },
  {
   "cell_type": "code",
   "execution_count": null,
   "metadata": {},
   "outputs": [],
   "source": [
    "labels[idx]"
   ]
  },
  {
   "cell_type": "code",
   "execution_count": null,
   "metadata": {},
   "outputs": [],
   "source": [
    "np.count_nonzero(region_mask)"
   ]
  },
  {
   "cell_type": "markdown",
   "metadata": {},
   "source": [
    "We choose the Precentral Gyrus, comprising 7051 voxels."
   ]
  },
  {
   "cell_type": "code",
   "execution_count": null,
   "metadata": {},
   "outputs": [],
   "source": [
    "from notip.posthoc_fmri import get_tdp_bound_notip\n",
    "notip_bound, cluster_map = get_tdp_bound_notip(z_map, fmri_input, region_mask, n_permutations=200)\n",
    "# rename tdp_bound_notip_1samp()\n",
    "# remove z_map"
   ]
  },
  {
   "cell_type": "code",
   "execution_count": null,
   "metadata": {},
   "outputs": [],
   "source": [
    "from nilearn.plotting import plot_stat_map\n",
    "plot_stat_map(cluster_map, title='TDP > %s' % (\"{0:.2f}\".format(notip_bound)))"
   ]
  },
  {
   "cell_type": "markdown",
   "metadata": {},
   "source": [
    "### Using Notip on user-defined clusters"
   ]
  },
  {
   "cell_type": "markdown",
   "metadata": {},
   "source": [
    "We will now use Notip on clusters extracted from the data; we seek to find connected components exceeding a z-value threshold. We set the threshold to 3.5."
   ]
  },
  {
   "cell_type": "code",
   "execution_count": null,
   "metadata": {},
   "outputs": [],
   "source": [
    "stat_threshold = 3.5\n",
    "# should have been defined earlier, once and for all."
   ]
  },
  {
   "cell_type": "code",
   "execution_count": null,
   "metadata": {
    "scrolled": true
   },
   "outputs": [],
   "source": [
    "import numpy as np\n",
    "from scipy import ndimage\n",
    "from nilearn._utils.niimg import safe_get_data\n",
    "\n",
    "\n",
    "# Defining \"faces\" connectivity for voxels\n",
    "\n",
    "conn_mat = np.zeros((3, 3, 3), int)\n",
    "conn_mat[1, 1, :] = 1\n",
    "conn_mat[1, :, 1] = 1\n",
    "conn_mat[:, 1, 1] = 1\n",
    "\n",
    "stat_map = safe_get_data(z_map, ensure_finite=True)\n",
    "\n",
    "# Thresholding the map\n",
    "binarized = stat_map > stat_threshold\n",
    "binarized = binarized.astype(int)\n",
    "\n",
    "# Extracting clusters from thresholded map\n",
    "label_map = ndimage.measurements.label(binarized, conn_mat)[0]\n",
    "\n",
    "cluster_mask = label_map == 1 # First cluster\n",
    "\n",
    "# There are functions in nilearn that do that.\n",
    "# "
   ]
  },
  {
   "cell_type": "code",
   "execution_count": null,
   "metadata": {},
   "outputs": [],
   "source": [
    "np.count_nonzero(cluster_mask)"
   ]
  },
  {
   "cell_type": "markdown",
   "metadata": {},
   "source": [
    "This cluster comprises 796 voxels."
   ]
  },
  {
   "cell_type": "code",
   "execution_count": null,
   "metadata": {},
   "outputs": [],
   "source": [
    "from notip.posthoc_fmri import get_tdp_bound_notip\n",
    "notip_bound, cluster_map = get_tdp_bound_notip(z_map, fmri_input, cluster_mask, n_permutations=200)\n",
    "# todo: tdp_bound_notip_1samp"
   ]
  },
  {
   "cell_type": "markdown",
   "metadata": {},
   "source": [
    "Let's visualize the results:"
   ]
  },
  {
   "cell_type": "code",
   "execution_count": null,
   "metadata": {},
   "outputs": [],
   "source": [
    "from nilearn.plotting import plot_stat_map\n",
    "plot_stat_map(cluster_map, title='TDP > %s' % (\"{0:.2f}\".format(notip_bound)))"
   ]
  },
  {
   "cell_type": "code",
   "execution_count": null,
   "metadata": {},
   "outputs": [],
   "source": [
    "# todo: use BH threshold to illustrate that FDR control does not yeld FDP control\n",
    "\n",
    "# todo: add an example to play with alpha"
   ]
  },
  {
   "cell_type": "markdown",
   "metadata": {},
   "source": [
    "# References"
   ]
  },
  {
   "cell_type": "markdown",
   "metadata": {},
   "source": [
    "Blain, Alexandre, Bertrand Thirion, and Pierre Neuvial. \"Notip: Non-parametric True Discovery Proportion control for brain imaging.\" NeuroImage 260 (2022): 119492. doi:https://doi.org/10.1016/j.neuroimage.2022.119492"
   ]
  },
  {
   "cell_type": "markdown",
   "metadata": {},
   "source": [
    "Dimitri Papadopoulos Orfanos, Vincent Michel, Yannick Schwartz, Philippe Pinel, Antonio Moreno, Denis Le Bihan, and Vincent Frouin. The brainomics/localizer database. NeuroImage, 144:309–314, 2017. Data Sharing Part II. URL: https://www.sciencedirect.com/science/article/pii/S1053811915008745, doi:https://doi.org/10.1016/j.neuroimage.2015.09.052."
   ]
  }
 ],
 "metadata": {
  "kernelspec": {
   "display_name": "Python 3 (ipykernel)",
   "language": "python",
   "name": "python3"
  },
  "language_info": {
   "codemirror_mode": {
    "name": "ipython",
    "version": 3
   },
   "file_extension": ".py",
   "mimetype": "text/x-python",
   "name": "python",
   "nbconvert_exporter": "python",
   "pygments_lexer": "ipython3",
   "version": "3.10.6"
  }
 },
 "nbformat": 4,
 "nbformat_minor": 1
}
