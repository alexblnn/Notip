{
 "cells": [
  {
   "cell_type": "markdown",
   "metadata": {},
   "source": [
    "\n",
    "# True positive proportions in fMRI clusters using Notip\n",
    "\n",
    "This script showcases the so-called Notip procedure [1], in\n",
    "which the proportion of true discoveries in arbitrary clusters is estimated.\n",
    "The clusters can be defined from the input image, i.e. in a circular way, as\n",
    "the error control accounts for arbitrary cluster selection.\n"
   ]
  },
  {
   "cell_type": "code",
   "execution_count": null,
   "metadata": {},
   "outputs": [],
   "source": [
    "pip install notip -q"
   ]
  },
  {
   "cell_type": "markdown",
   "metadata": {},
   "source": [
    "## Fetch dataset\n",
    "\n",
    "We download a list of image of the HCP dataset showcasing activity during a working memory task [0]. Concretely, these maps represent brain activation when subjects perform a 2-back task with face images. Note that we fetch individual t-maps that represent the BOLD activity estimate divided by the uncertainty about this estimate."
   ]
  },
  {
   "cell_type": "code",
   "execution_count": null,
   "metadata": {},
   "outputs": [],
   "source": [
    "# fetch the data from neurovault\n",
    "from nilearn.datasets import fetch_neurovault\n",
    "\n",
    "image_terms={'contrast_definition':'2BK_FACE'} # which contrast we want\n",
    "n_subjects = 30 # number of desired images\n",
    "nv_data = fetch_neurovault(\n",
    "    collection_id=4337,     # this collection\n",
    "    image_terms=image_terms,# image selection\n",
    "    max_images=n_subjects,\n",
    "    # resample=True,          # resample to 3mm for the sake of time\n",
    ")\n",
    "imgs = nv_data[\"images\"]"
   ]
  },
  {
   "cell_type": "markdown",
   "metadata": {},
   "source": [
    "Let's visualize the input data:"
   ]
  },
  {
   "cell_type": "code",
   "execution_count": null,
   "metadata": {},
   "outputs": [],
   "source": [
    "import matplotlib.pyplot as plt\n",
    "from nilearn.plotting import plot_glass_brain\n",
    "\n",
    "fig, axes = plt.subplots(nrows=6, ncols=5, figsize=(6, 6), dpi=300)\n",
    "# we use a glass brain to see each map in one glance\n",
    "for cidx, tmap in enumerate(imgs):\n",
    "    plot_glass_brain(\n",
    "        tmap,\n",
    "        colorbar=False,\n",
    "        threshold=2.0,\n",
    "        axes=axes[int(cidx / 5), int(cidx % 5)],\n",
    "        plot_abs=False,\n",
    "        annotate=False,\n",
    "        display_mode='z')"
   ]
  },
  {
   "cell_type": "markdown",
   "metadata": {},
   "source": [
    "To extract signal from these images, we need a masker. While loading the data, we smooth them with an 8mm-kernel to improve sensitivity. "
   ]
  },
  {
   "cell_type": "code",
   "execution_count": null,
   "metadata": {},
   "outputs": [],
   "source": [
    "from nilearn.maskers import NiftiMasker\n",
    "\n",
    "smoothing_fwhm = 8.0\n",
    "nifti_masker = NiftiMasker(smoothing_fwhm=smoothing_fwhm)"
   ]
  },
  {
   "cell_type": "code",
   "execution_count": null,
   "metadata": {},
   "outputs": [],
   "source": [
    "fmri_input = nifti_masker.fit_transform(imgs)"
   ]
  },
  {
   "cell_type": "code",
   "execution_count": null,
   "metadata": {
    "scrolled": true
   },
   "outputs": [],
   "source": [
    "print(fmri_input.shape)"
   ]
  },
  {
   "cell_type": "code",
   "execution_count": null,
   "metadata": {},
   "outputs": [],
   "source": [
    "# Note that the masker has automatically computed a brain mask\n",
    "# One can take a look at it\n",
    "from nilearn.plotting import plot_roi\n",
    "plot_roi(nifti_masker.mask_img_)"
   ]
  },
  {
   "cell_type": "markdown",
   "metadata": {},
   "source": [
    "We have extracted the values of 255612 voxels from 30 images."
   ]
  },
  {
   "cell_type": "markdown",
   "metadata": {},
   "source": [
    "### Computing True Discovery Proportion (TDP) lower bounds on data-derived clusters"
   ]
  },
  {
   "cell_type": "markdown",
   "metadata": {},
   "source": [
    "First, we need to compute a statistical map from the input data. This is done via a t-test, performed for each voxel."
   ]
  },
  {
   "cell_type": "code",
   "execution_count": null,
   "metadata": {},
   "outputs": [],
   "source": [
    "from scipy.stats import norm, ttest_1samp\n",
    "\n",
    "# Let's run a one-sample t test on these data\n",
    "stats_, p_values = ttest_1samp(\n",
    "    fmri_input, 0, alternative='greater')\n",
    "\n",
    "# Let's make this an image by using the inverse_transform method of the masker\n",
    "stat_map = nifti_masker.inverse_transform(stats_)\n",
    "\n",
    "p_values_map = nifti_masker.inverse_transform(p_values)"
   ]
  },
  {
   "cell_type": "markdown",
   "metadata": {},
   "source": [
    "Let us visualise the resulting t map:"
   ]
  },
  {
   "cell_type": "code",
   "execution_count": null,
   "metadata": {},
   "outputs": [],
   "source": [
    "from nilearn.plotting import view_img\n",
    "stat_threshold = 3.5\n",
    "view_img(stat_map, \n",
    "         title='Group-level t-map',\n",
    "         threshold=stat_threshold,\n",
    "         colorbar=True)"
   ]
  },
  {
   "cell_type": "markdown",
   "metadata": {},
   "source": [
    "This map makes sense.\n",
    "We can now use Notip to compute TDP lower bounds on clusters exceeding a z-value threshold. We set this threshold to 3.5."
   ]
  },
  {
   "cell_type": "code",
   "execution_count": null,
   "metadata": {},
   "outputs": [],
   "source": [
    "from notip.posthoc_fmri import get_clusters_table_TDP_1samp\n",
    "get_clusters_table_TDP_1samp(\n",
    "    fmri_input,\n",
    "    n_permutations=200,\n",
    "    stat_threshold=stat_threshold,\n",
    "    methods=['Notip'],\n",
    "    nifti_masker=nifti_masker)"
   ]
  },
  {
   "cell_type": "markdown",
   "metadata": {},
   "source": [
    "We have reduced the number of permutations to 200 for the sake of computation time. Note that we can get tighter FDP control by increasing this number."
   ]
  },
  {
   "cell_type": "markdown",
   "metadata": {},
   "source": [
    "### Comparison with other TDP lower bounds \n",
    "\n",
    "There exist other approach to get TDP estimates. Among those, All-Resolution-Inference (ARI) does not require permutations. Let us compare their result."
   ]
  },
  {
   "cell_type": "code",
   "execution_count": null,
   "metadata": {},
   "outputs": [],
   "source": [
    "from notip.posthoc_fmri import get_clusters_table_TDP_1samp\n",
    "get_clusters_table_TDP_1samp(\n",
    "    fmri_input, \n",
    "    n_permutations=200,\n",
    "    stat_threshold=stat_threshold,\n",
    "    methods=['ARI', 'Notip'],\n",
    "    nifti_masker=nifti_masker)"
   ]
  },
  {
   "cell_type": "markdown",
   "metadata": {},
   "source": [
    "### Using Notip on regions from atlases"
   ]
  },
  {
   "cell_type": "code",
   "execution_count": null,
   "metadata": {},
   "outputs": [],
   "source": [
    "from nilearn import datasets\n",
    "# atlas = datasets.fetch_atlas_harvard_oxford('cort-prob-2mm')\n",
    "\n",
    "atlas = datasets.fetch_atlas_harvard_oxford(\"cort-maxprob-thr0-2mm\")\n",
    "atlas_masker = NiftiMasker(smoothing_fwhm=None)\n",
    "\n",
    "atlas_filename = atlas.maps\n",
    "labels = atlas.labels\n",
    "atlas_masked = atlas_masker.fit_transform(atlas_filename)\n",
    "\n",
    "# project the data onto the same space\n",
    "\n",
    "fmri_input_atlas = atlas_masker.transform(imgs)"
   ]
  },
  {
   "cell_type": "markdown",
   "metadata": {},
   "source": [
    "We have 48 atlas regions."
   ]
  },
  {
   "cell_type": "code",
   "execution_count": null,
   "metadata": {},
   "outputs": [],
   "source": [
    "labels"
   ]
  },
  {
   "cell_type": "code",
   "execution_count": null,
   "metadata": {},
   "outputs": [],
   "source": [
    "import numpy as np\n",
    "from nilearn.image import math_img\n",
    "\n",
    "# Find the index of the Superior Parietal Lobule\n",
    "idx = np.where(np.array(labels) == 'Superior Parietal Lobule')[0]\n",
    "\n",
    "# make it a binary region definition\n",
    "region_mask =  math_img(f'i1 == {idx}', i1=atlas_filename)\n",
    "plot_roi(region_mask)"
   ]
  },
  {
   "cell_type": "code",
   "execution_count": null,
   "metadata": {},
   "outputs": [],
   "source": [
    "from notip.posthoc_fmri import tdp_bound_notip_1samp\n",
    "notip_bound, cluster_map = tdp_bound_notip_1samp(\n",
    "    fmri_input_atlas,\n",
    "    region_mask,\n",
    "    n_permutations=200,\n",
    "    nifti_masker=atlas_masker)"
   ]
  },
  {
   "cell_type": "code",
   "execution_count": null,
   "metadata": {},
   "outputs": [],
   "source": [
    "from nilearn.plotting import plot_stat_map\n",
    "plot_stat_map(cluster_map, title='TDP > {0:.2f}'.format(notip_bound))"
   ]
  },
  {
   "cell_type": "markdown",
   "metadata": {},
   "source": [
    "### Using Notip on user-defined clusters"
   ]
  },
  {
   "cell_type": "markdown",
   "metadata": {},
   "source": [
    "We will now use Notip on clusters extracted from the data; we seek to find connected components exceeding a z-value threshold."
   ]
  },
  {
   "cell_type": "code",
   "execution_count": null,
   "metadata": {
    "scrolled": true
   },
   "outputs": [],
   "source": [
    "from nilearn.regions import connected_regions\n",
    "from nilearn.image import binarize_img, index_img\n",
    "\n",
    "# binarize the thresholded stat map\n",
    "th_img = binarize_img(stat_map, 3.5)\n",
    "\n",
    "# Extract the connected components\n",
    "label_map, indices = connected_regions(\n",
    "    th_img,\n",
    "    min_region_size=1350,\n",
    "    extract_type='connected_components',\n",
    "    mask_img=None)\n",
    "\n",
    "# Get the spatial map corresponding to the first cluster\n",
    "# i.e. with index = 0\n",
    "cluster_mask = index_img(label_map, 0)\n",
    "\n",
    "# look at it\n",
    "plot_roi(cluster_mask)"
   ]
  },
  {
   "cell_type": "code",
   "execution_count": null,
   "metadata": {},
   "outputs": [],
   "source": [
    "np.count_nonzero(cluster_mask.get_fdata())"
   ]
  },
  {
   "cell_type": "markdown",
   "metadata": {},
   "source": [
    "This cluster comprises 1453 voxels.\n",
    "Now, let's infer the TDP on this region. This looks circular ---it is actually--- as the region was defined from the map in the first place, but in the present case, this is legal, as we use a post-hoc inference scheme."
   ]
  },
  {
   "cell_type": "code",
   "execution_count": null,
   "metadata": {},
   "outputs": [],
   "source": [
    "from notip.posthoc_fmri import tdp_bound_notip_1samp\n",
    "notip_bound, cluster_map = tdp_bound_notip_1samp(\n",
    "    fmri_input,\n",
    "    cluster_mask,\n",
    "    n_permutations=200,\n",
    "    nifti_masker=nifti_masker)"
   ]
  },
  {
   "cell_type": "markdown",
   "metadata": {},
   "source": [
    "Let's visualize the results:"
   ]
  },
  {
   "cell_type": "code",
   "execution_count": null,
   "metadata": {},
   "outputs": [],
   "source": [
    "plot_stat_map(\n",
    "    cluster_map, title='TDP > {0:.2f}'.format(notip_bound))"
   ]
  },
  {
   "cell_type": "markdown",
   "metadata": {},
   "source": [
    "## FDP control vs FDR control"
   ]
  },
  {
   "cell_type": "markdown",
   "metadata": {},
   "source": [
    "We can also apply Notip to obtain a TDP lower bound on the 5% Benjamini-Hochberg region:"
   ]
  },
  {
   "cell_type": "code",
   "execution_count": null,
   "metadata": {},
   "outputs": [],
   "source": [
    "from nilearn.glm import fdr_threshold\n",
    "from scipy.stats import norm\n",
    "from nilearn.image import threshold_img, math_img\n",
    "q = 0.05\n",
    "\n",
    "# fdr_threshold takes z-values as input,\n",
    "# so we need to convert p-values to z-values\n",
    "z_values = norm.isf(p_values)\n",
    "bh_region = z_values >= fdr_threshold(z_values, q)\n",
    "\n",
    "stat_threshold_bh = np.min(stats_[bh_region])\n",
    "print('BH threshold: {0:.2f}'.format(stat_threshold_bh))\n",
    "\n",
    "plot_stat_map(\n",
    "    stat_map, \n",
    "    threshold=stat_threshold_bh, \n",
    "    title='TDR > {0:.2f}'.format(1 - q))"
   ]
  },
  {
   "cell_type": "code",
   "execution_count": null,
   "metadata": {},
   "outputs": [],
   "source": [
    "# To infer on the TDP in this region, we binarize the stat map\n",
    "bh_mask = binarize_img(stat_map, stat_threshold_bh)\n",
    "\n",
    "# Then we call the TDP inference function on this particular region\n",
    "notip_bound, cluster_map = tdp_bound_notip_1samp(\n",
    "    fmri_input,\n",
    "    bh_mask,\n",
    "    n_permutations=200,\n",
    "    nifti_masker=nifti_masker)"
   ]
  },
  {
   "cell_type": "code",
   "execution_count": null,
   "metadata": {},
   "outputs": [],
   "source": [
    "plot_stat_map(cluster_map, title='TDP > {0:.2f}'.format(notip_bound))"
   ]
  },
  {
   "cell_type": "markdown",
   "metadata": {},
   "source": [
    "Note that Notip only guarantees that, with high probability, about half of voxels at least are active in this region: FDR control does not imply FDP control at the same level."
   ]
  },
  {
   "cell_type": "markdown",
   "metadata": {},
   "source": [
    "# References"
   ]
  },
  {
   "cell_type": "markdown",
   "metadata": {},
   "source": [
    "Blain, Alexandre, Bertrand Thirion, and Pierre Neuvial. \"Notip: Non-parametric True Discovery Proportion control for brain imaging.\" NeuroImage 260 (2022): 119492. doi:https://doi.org/10.1016/j.neuroimage.2022.119492"
   ]
  },
  {
   "cell_type": "markdown",
   "metadata": {},
   "source": [
    "Dimitri Papadopoulos Orfanos, Vincent Michel, Yannick Schwartz, Philippe Pinel, Antonio Moreno, Denis Le Bihan, and Vincent Frouin. The brainomics/localizer database. NeuroImage, 144:309–314, 2017. Data Sharing Part II. URL: https://www.sciencedirect.com/science/article/pii/S1053811915008745, doi:https://doi.org/10.1016/j.neuroimage.2015.09.052."
   ]
  }
 ],
 "metadata": {
  "kernelspec": {
   "display_name": "Python 3 (ipykernel)",
   "language": "python",
   "name": "python3"
  },
  "language_info": {
   "codemirror_mode": {
    "name": "ipython",
    "version": 3
   },
   "file_extension": ".py",
   "mimetype": "text/x-python",
   "name": "python",
   "nbconvert_exporter": "python",
   "pygments_lexer": "ipython3",
   "version": "3.10.6"
  }
 },
 "nbformat": 4,
 "nbformat_minor": 1
}
