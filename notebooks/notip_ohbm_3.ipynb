{
 "cells": [
  {
   "cell_type": "code",
   "execution_count": 1,
   "metadata": {},
   "outputs": [],
   "source": [
    "%matplotlib inline"
   ]
  },
  {
   "cell_type": "markdown",
   "metadata": {},
   "source": [
    "\n",
    "# Second-level fMRI model: true positive proportion in clusters\n",
    "\n",
    "This script showcases the so-called Notip procedure, in\n",
    "which the proportion of true discoveries in arbitrary clusters is estimated.\n",
    "The clusters can be defined from the input image, i.e. in a circular way, as\n",
    "the error control accounts for arbitrary cluster selection.\n",
    "\n",
    "Blain, Alexandre, Bertrand Thirion, and Pierre Neuvial. \"Notip: Non-parametric True Discovery Proportion control for brain imaging.\" NeuroImage 260 (2022): 119492. doi:10.1016/j.neuroimage.2022.119492\n"
   ]
  },
  {
   "cell_type": "markdown",
   "metadata": {},
   "source": [
    "## Fetch dataset\n",
    "We download a list of left vs right button press contrasts from a\n",
    "localizer dataset. Note that we fetch individual t-maps that represent the\n",
    "BOLD activity estimate divided by the uncertainty about this estimate.\n",
    "\n"
   ]
  },
  {
   "cell_type": "code",
   "execution_count": 2,
   "metadata": {},
   "outputs": [],
   "source": [
    "from nilearn.datasets import fetch_localizer_contrasts\n",
    "\n",
    "n_subjects = 16\n",
    "data = fetch_localizer_contrasts(\n",
    "    [\"left vs right button press\"],\n",
    "    n_subjects,\n",
    "    get_tmaps=True,\n",
    "    legacy_format=False,\n",
    ")"
   ]
  },
  {
   "cell_type": "code",
   "execution_count": 3,
   "metadata": {},
   "outputs": [
    {
     "name": "stderr",
     "output_type": "stream",
     "text": [
      "/home/alex/.local/lib/python3.8/site-packages/nilearn/input_data/__init__.py:27: FutureWarning: The import path 'nilearn.input_data' is deprecated in version 0.9. Importing from 'nilearn.input_data' will be possible at least until release 0.13.0. Please import from 'nilearn.maskers' instead.\n",
      "  warnings.warn(message, FutureWarning)\n"
     ]
    }
   ],
   "source": [
    "from nilearn.input_data import NiftiMasker\n",
    "smoothing_fwhm = 8.0\n",
    "nifti_masker = NiftiMasker(smoothing_fwhm=smoothing_fwhm)"
   ]
  },
  {
   "cell_type": "code",
   "execution_count": 4,
   "metadata": {},
   "outputs": [],
   "source": [
    "fmri_input = nifti_masker.fit_transform(data[\"cmaps\"])"
   ]
  },
  {
   "cell_type": "markdown",
   "metadata": {},
   "source": [
    "## Estimate second level model\n",
    "We define the input maps and the design matrix for the second level model\n",
    "and fit it.\n",
    "\n"
   ]
  },
  {
   "cell_type": "code",
   "execution_count": 5,
   "metadata": {},
   "outputs": [],
   "source": [
    "import pandas as pd\n",
    "\n",
    "second_level_input = data[\"cmaps\"]\n",
    "design_matrix = pd.DataFrame(\n",
    "    [1] * len(second_level_input), columns=[\"intercept\"]\n",
    ")"
   ]
  },
  {
   "cell_type": "markdown",
   "metadata": {},
   "source": [
    "Model specification and fit\n",
    "\n"
   ]
  },
  {
   "cell_type": "code",
   "execution_count": 6,
   "metadata": {},
   "outputs": [
    {
     "name": "stderr",
     "output_type": "stream",
     "text": [
      "/home/alex/.local/lib/python3.8/site-packages/nilearn/glm/__init__.py:55: FutureWarning: The nilearn.glm module is experimental. It may change in any future release of Nilearn.\n",
      "  warn('The nilearn.glm module is experimental. '\n"
     ]
    }
   ],
   "source": [
    "from nilearn.glm.second_level import SecondLevelModel\n",
    "\n",
    "second_level_model = SecondLevelModel(smoothing_fwhm=smoothing_fwhm)\n",
    "second_level_model = second_level_model.fit(\n",
    "    second_level_input, design_matrix=design_matrix\n",
    ")"
   ]
  },
  {
   "cell_type": "markdown",
   "metadata": {},
   "source": [
    "To estimate the contrast is very simple. We can just provide the column\n",
    "name of the design matrix.\n",
    "\n"
   ]
  },
  {
   "cell_type": "code",
   "execution_count": 7,
   "metadata": {},
   "outputs": [],
   "source": [
    "z_map = second_level_model.compute_contrast(output_type=\"z_score\")"
   ]
  },
  {
   "cell_type": "markdown",
   "metadata": {},
   "source": [
    "Let's extract a cluster of interest:"
   ]
  },
  {
   "cell_type": "code",
   "execution_count": 8,
   "metadata": {},
   "outputs": [],
   "source": [
    "import numpy as np\n",
    "from scipy import ndimage\n",
    "from nilearn._utils.niimg import _safe_get_data\n",
    "\n",
    "stat_threshold = 4\n",
    "\n",
    "conn_mat = np.zeros((3, 3, 3), int)\n",
    "conn_mat[1, 1, :] = 1\n",
    "conn_mat[1, :, 1] = 1\n",
    "conn_mat[:, 1, 1] = 1\n",
    "\n",
    "stat_map = _safe_get_data(z_map, ensure_finite=True)\n",
    "\n",
    "\n",
    "binarized = stat_map > stat_threshold\n",
    "binarized = binarized.astype(int)\n",
    "\n",
    "label_map = ndimage.measurements.label(binarized, conn_mat)[0]\n",
    "\n",
    "cluster_mask = label_map == 1 # First cluster"
   ]
  },
  {
   "cell_type": "code",
   "execution_count": 27,
   "metadata": {},
   "outputs": [
    {
     "data": {
      "text/plain": [
       "(53, 63, 46)"
      ]
     },
     "execution_count": 27,
     "metadata": {},
     "output_type": "execute_result"
    }
   ],
   "source": [
    "cluster_mask.shape"
   ]
  },
  {
   "cell_type": "code",
   "execution_count": 25,
   "metadata": {},
   "outputs": [
    {
     "data": {
      "text/plain": [
       "153594"
      ]
     },
     "execution_count": 25,
     "metadata": {},
     "output_type": "execute_result"
    }
   ],
   "source": [
    "53 * 63 * 46"
   ]
  },
  {
   "cell_type": "code",
   "execution_count": 28,
   "metadata": {},
   "outputs": [
    {
     "data": {
      "text/plain": [
       "319"
      ]
     },
     "execution_count": 28,
     "metadata": {},
     "output_type": "execute_result"
    }
   ],
   "source": [
    "np.count_nonzero(cluster_mask)"
   ]
  },
  {
   "cell_type": "code",
   "execution_count": 9,
   "metadata": {},
   "outputs": [
    {
     "name": "stdout",
     "output_type": "stream",
     "text": [
      "0.9749216300940439\n"
     ]
    },
    {
     "name": "stderr",
     "output_type": "stream",
     "text": [
      "/home/alex/.local/lib/python3.8/site-packages/nilearn/plotting/img_plotting.py:300: FutureWarning: Default resolution of the MNI template will change from 2mm to 1mm in version 0.10.0\n",
      "  anat_img = load_mni152_template()\n"
     ]
    },
    {
     "data": {
      "image/png": "[encoded data removed]",
      "text/plain": [
       "<Figure size 525.6x187.2 with 5 Axes>"
      ]
     },
     "metadata": {},
     "output_type": "display_data"
    }
   ],
   "source": [
    "from posthoc_fmri import get_tdp_bound_notip\n",
    "get_tdp_bound_notip(z_map, fmri_input, cluster_mask)"
   ]
  }
 ],
 "metadata": {
  "kernelspec": {
   "display_name": "Python 3 (ipykernel)",
   "language": "python",
   "name": "python3"
  },
  "language_info": {
   "codemirror_mode": {
    "name": "ipython",
    "version": 3
   },
   "file_extension": ".py",
   "mimetype": "text/x-python",
   "name": "python",
   "nbconvert_exporter": "python",
   "pygments_lexer": "ipython3",
   "version": "3.8.10"
  }
 },
 "nbformat": 4,
 "nbformat_minor": 1
}
