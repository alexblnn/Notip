{
 "cells": [
  {
   "cell_type": "code",
   "execution_count": 2,
   "metadata": {},
   "outputs": [],
   "source": [
    "%matplotlib inline"
   ]
  },
  {
   "cell_type": "markdown",
   "metadata": {},
   "source": [
    "\n",
    "# Second-level fMRI model: true positive proportion in clusters\n",
    "\n",
    "This script showcases the so-called Notip procedure, in\n",
    "which the proportion of true discoveries in arbitrary clusters is estimated.\n",
    "The clusters can be defined from the input image, i.e. in a circular way, as\n",
    "the error control accounts for arbitrary cluster selection.\n",
    "\n",
    "Blain, Alexandre, Bertrand Thirion, and Pierre Neuvial. \"Notip: Non-parametric True Discovery Proportion control for brain imaging.\" NeuroImage 260 (2022): 119492. doi:10.1016/j.neuroimage.2022.119492\n"
   ]
  },
  {
   "cell_type": "markdown",
   "metadata": {},
   "source": [
    "## Fetch dataset\n",
    "We download a list of left vs right button press contrasts from a\n",
    "localizer dataset. Note that we fetch individual t-maps that represent the\n",
    "BOLD activity estimate divided by the uncertainty about this estimate.\n",
    "\n"
   ]
  },
  {
   "cell_type": "code",
   "execution_count": 3,
   "metadata": {},
   "outputs": [],
   "source": [
    "from nilearn.datasets import fetch_localizer_contrasts\n",
    "\n",
    "n_subjects = 16\n",
    "data = fetch_localizer_contrasts(\n",
    "    [\"left vs right button press\"],\n",
    "    n_subjects,\n",
    "    get_tmaps=True,\n",
    "    legacy_format=False,\n",
    ")"
   ]
  },
  {
   "cell_type": "code",
   "execution_count": 4,
   "metadata": {},
   "outputs": [],
   "source": [
    "from nilearn.input_data import NiftiMasker\n",
    "smoothing_fwhm = 8.0\n",
    "nifti_masker = NiftiMasker(smoothing_fwhm=smoothing_fwhm)"
   ]
  },
  {
   "cell_type": "code",
   "execution_count": 5,
   "metadata": {},
   "outputs": [],
   "source": [
    "fmri_input = nifti_masker.fit_transform(data[\"cmaps\"])"
   ]
  },
  {
   "cell_type": "markdown",
   "metadata": {},
   "source": [
    "## Estimate second level model\n",
    "We define the input maps and the design matrix for the second level model\n",
    "and fit it.\n",
    "\n"
   ]
  },
  {
   "cell_type": "code",
   "execution_count": 6,
   "metadata": {},
   "outputs": [],
   "source": [
    "import pandas as pd\n",
    "\n",
    "second_level_input = data[\"cmaps\"]\n",
    "design_matrix = pd.DataFrame(\n",
    "    [1] * len(second_level_input), columns=[\"intercept\"]\n",
    ")"
   ]
  },
  {
   "cell_type": "markdown",
   "metadata": {},
   "source": [
    "Model specification and fit\n",
    "\n"
   ]
  },
  {
   "cell_type": "code",
   "execution_count": 9,
   "metadata": {},
   "outputs": [],
   "source": [
    "from nilearn.glm.second_level import SecondLevelModel\n",
    "\n",
    "second_level_model = SecondLevelModel(smoothing_fwhm=4.0)\n",
    "second_level_model = second_level_model.fit(\n",
    "    second_level_input, design_matrix=design_matrix\n",
    ")"
   ]
  },
  {
   "cell_type": "markdown",
   "metadata": {},
   "source": [
    "To estimate the contrast is very simple. We can just provide the column\n",
    "name of the design matrix.\n",
    "\n"
   ]
  },
  {
   "cell_type": "code",
   "execution_count": 10,
   "metadata": {},
   "outputs": [],
   "source": [
    "z_map = second_level_model.compute_contrast(output_type=\"z_score\")"
   ]
  },
  {
   "cell_type": "code",
   "execution_count": 11,
   "metadata": {},
   "outputs": [
    {
     "data": {
      "text/html": [
       "<div>\n",
       "<style scoped>\n",
       "    .dataframe tbody tr th:only-of-type {\n",
       "        vertical-align: middle;\n",
       "    }\n",
       "\n",
       "    .dataframe tbody tr th {\n",
       "        vertical-align: top;\n",
       "    }\n",
       "\n",
       "    .dataframe thead th {\n",
       "        text-align: right;\n",
       "    }\n",
       "</style>\n",
       "<table border=\"1\" class=\"dataframe\">\n",
       "  <thead>\n",
       "    <tr style=\"text-align: right;\">\n",
       "      <th></th>\n",
       "      <th>Cluster ID</th>\n",
       "      <th>X</th>\n",
       "      <th>Y</th>\n",
       "      <th>Z</th>\n",
       "      <th>Peak Stat</th>\n",
       "      <th>Cluster Size (mm3)</th>\n",
       "      <th>Minimum TDP (Notip)</th>\n",
       "    </tr>\n",
       "  </thead>\n",
       "  <tbody>\n",
       "    <tr>\n",
       "      <th>0</th>\n",
       "      <td>1</td>\n",
       "      <td>42.0</td>\n",
       "      <td>-24.0</td>\n",
       "      <td>54.0</td>\n",
       "      <td>5.26</td>\n",
       "      <td>10503</td>\n",
       "      <td>0.80</td>\n",
       "    </tr>\n",
       "    <tr>\n",
       "      <th>1</th>\n",
       "      <td>1a</td>\n",
       "      <td>27.0</td>\n",
       "      <td>-21.0</td>\n",
       "      <td>66.0</td>\n",
       "      <td>5.16</td>\n",
       "      <td></td>\n",
       "      <td></td>\n",
       "    </tr>\n",
       "    <tr>\n",
       "      <th>2</th>\n",
       "      <td>1b</td>\n",
       "      <td>51.0</td>\n",
       "      <td>-15.0</td>\n",
       "      <td>54.0</td>\n",
       "      <td>5.10</td>\n",
       "      <td></td>\n",
       "      <td></td>\n",
       "    </tr>\n",
       "    <tr>\n",
       "      <th>3</th>\n",
       "      <td>1c</td>\n",
       "      <td>21.0</td>\n",
       "      <td>-24.0</td>\n",
       "      <td>72.0</td>\n",
       "      <td>4.97</td>\n",
       "      <td></td>\n",
       "      <td></td>\n",
       "    </tr>\n",
       "    <tr>\n",
       "      <th>4</th>\n",
       "      <td>2</td>\n",
       "      <td>-18.0</td>\n",
       "      <td>-54.0</td>\n",
       "      <td>-21.0</td>\n",
       "      <td>4.59</td>\n",
       "      <td>1566</td>\n",
       "      <td>0.14</td>\n",
       "    </tr>\n",
       "    <tr>\n",
       "      <th>5</th>\n",
       "      <td>3</td>\n",
       "      <td>6.0</td>\n",
       "      <td>-21.0</td>\n",
       "      <td>51.0</td>\n",
       "      <td>4.15</td>\n",
       "      <td>189</td>\n",
       "      <td>0.00</td>\n",
       "    </tr>\n",
       "    <tr>\n",
       "      <th>6</th>\n",
       "      <td>4</td>\n",
       "      <td>9.0</td>\n",
       "      <td>-9.0</td>\n",
       "      <td>63.0</td>\n",
       "      <td>4.11</td>\n",
       "      <td>243</td>\n",
       "      <td>0.00</td>\n",
       "    </tr>\n",
       "    <tr>\n",
       "      <th>7</th>\n",
       "      <td>5</td>\n",
       "      <td>39.0</td>\n",
       "      <td>-18.0</td>\n",
       "      <td>18.0</td>\n",
       "      <td>4.07</td>\n",
       "      <td>891</td>\n",
       "      <td>0.00</td>\n",
       "    </tr>\n",
       "    <tr>\n",
       "      <th>8</th>\n",
       "      <td>5a</td>\n",
       "      <td>42.0</td>\n",
       "      <td>-27.0</td>\n",
       "      <td>18.0</td>\n",
       "      <td>3.78</td>\n",
       "      <td></td>\n",
       "      <td></td>\n",
       "    </tr>\n",
       "    <tr>\n",
       "      <th>9</th>\n",
       "      <td>6</td>\n",
       "      <td>-30.0</td>\n",
       "      <td>-81.0</td>\n",
       "      <td>-9.0</td>\n",
       "      <td>3.97</td>\n",
       "      <td>162</td>\n",
       "      <td>0.00</td>\n",
       "    </tr>\n",
       "    <tr>\n",
       "      <th>10</th>\n",
       "      <td>7</td>\n",
       "      <td>18.0</td>\n",
       "      <td>-15.0</td>\n",
       "      <td>69.0</td>\n",
       "      <td>3.68</td>\n",
       "      <td>54</td>\n",
       "      <td>0.00</td>\n",
       "    </tr>\n",
       "    <tr>\n",
       "      <th>11</th>\n",
       "      <td>8</td>\n",
       "      <td>-3.0</td>\n",
       "      <td>-60.0</td>\n",
       "      <td>-24.0</td>\n",
       "      <td>3.63</td>\n",
       "      <td>54</td>\n",
       "      <td>0.00</td>\n",
       "    </tr>\n",
       "    <tr>\n",
       "      <th>12</th>\n",
       "      <td>9</td>\n",
       "      <td>33.0</td>\n",
       "      <td>-21.0</td>\n",
       "      <td>-18.0</td>\n",
       "      <td>3.59</td>\n",
       "      <td>54</td>\n",
       "      <td>0.00</td>\n",
       "    </tr>\n",
       "  </tbody>\n",
       "</table>\n",
       "</div>"
      ],
      "text/plain": [
       "   Cluster ID     X     Y     Z Peak Stat Cluster Size (mm3)  \\\n",
       "0           1  42.0 -24.0  54.0      5.26              10503   \n",
       "1          1a  27.0 -21.0  66.0      5.16                      \n",
       "2          1b  51.0 -15.0  54.0      5.10                      \n",
       "3          1c  21.0 -24.0  72.0      4.97                      \n",
       "4           2 -18.0 -54.0 -21.0      4.59               1566   \n",
       "5           3   6.0 -21.0  51.0      4.15                189   \n",
       "6           4   9.0  -9.0  63.0      4.11                243   \n",
       "7           5  39.0 -18.0  18.0      4.07                891   \n",
       "8          5a  42.0 -27.0  18.0      3.78                      \n",
       "9           6 -30.0 -81.0  -9.0      3.97                162   \n",
       "10          7  18.0 -15.0  69.0      3.68                 54   \n",
       "11          8  -3.0 -60.0 -24.0      3.63                 54   \n",
       "12          9  33.0 -21.0 -18.0      3.59                 54   \n",
       "\n",
       "   Minimum TDP (Notip)  \n",
       "0                 0.80  \n",
       "1                       \n",
       "2                       \n",
       "3                       \n",
       "4                 0.14  \n",
       "5                 0.00  \n",
       "6                 0.00  \n",
       "7                 0.00  \n",
       "8                       \n",
       "9                 0.00  \n",
       "10                0.00  \n",
       "11                0.00  \n",
       "12                0.00  "
      ]
     },
     "execution_count": 11,
     "metadata": {},
     "output_type": "execute_result"
    }
   ],
   "source": [
    "from posthoc_fmri import get_clusters_table_Notip\n",
    "get_clusters_table_Notip(z_map, fmri_input, stat_threshold=3.5)"
   ]
  }
 ],
 "metadata": {
  "kernelspec": {
   "display_name": "Python 3 (ipykernel)",
   "language": "python",
   "name": "python3"
  },
  "language_info": {
   "codemirror_mode": {
    "name": "ipython",
    "version": 3
   },
   "file_extension": ".py",
   "mimetype": "text/x-python",
   "name": "python",
   "nbconvert_exporter": "python",
   "pygments_lexer": "ipython3",
   "version": "3.8.10"
  }
 },
 "nbformat": 4,
 "nbformat_minor": 1
}
